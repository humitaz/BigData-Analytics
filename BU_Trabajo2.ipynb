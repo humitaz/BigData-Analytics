{
 "cells": [
  {
   "cell_type": "code",
   "execution_count": null,
   "id": "c802f3c6",
   "metadata": {},
   "outputs": [],
   "source": []
  },
  {
   "cell_type": "code",
   "execution_count": 7,
   "id": "2db82cc6",
   "metadata": {},
   "outputs": [
    {
     "name": "stdout",
     "output_type": "stream",
     "text": [
      "Wall time: 45.3 ms\n"
     ]
    }
   ],
   "source": [
    "import dask.dataframe as dd\n",
    "%time properati = dd.read_csv(\"properati.csv\", encoding= 'unicode_escape')"
   ]
  },
  {
   "cell_type": "code",
   "execution_count": 8,
   "id": "af548ba5",
   "metadata": {
    "scrolled": true
   },
   "outputs": [
    {
     "name": "stdout",
     "output_type": "stream",
     "text": [
      "Index(['id', 'ad_type', 'start_date', 'end_date', 'created_on', 'lat', 'lon',\n",
      "       'l1', 'l2', 'l3', 'l4', 'l5', 'l6', 'rooms', 'bedrooms', 'bathrooms',\n",
      "       'surface_total', 'surface_covered', 'price', 'currency',\n",
      "       'property_type', 'operation_type'],\n",
      "      dtype='object')\n",
      "<bound method _Frame.head of Dask DataFrame Structure:\n",
      "                   id ad_type start_date end_date created_on      lat      lon      l1      l2      l3      l4      l5       l6    rooms bedrooms bathrooms surface_total surface_covered  price currency property_type operation_type\n",
      "npartitions=1                                                                                                                                                                                                                         \n",
      "               object  object     object   object     object  float64  float64  object  object  object  object  object  float64  float64    int64   float64       float64         float64  int64   object        object         object\n",
      "                  ...     ...        ...      ...        ...      ...      ...     ...     ...     ...     ...     ...      ...      ...      ...       ...           ...             ...    ...      ...           ...            ...\n",
      "Dask Name: read-csv, 1 tasks>\n"
     ]
    }
   ],
   "source": [
    "print(properati.columns)\n",
    "print(properati.head)"
   ]
  },
  {
   "cell_type": "code",
   "execution_count": null,
   "id": "56ed1e2a",
   "metadata": {},
   "outputs": [],
   "source": [
    "#Cargar la base\n",
    "!pip install dask-ml\n",
    "import pandas as pd\n",
    "base = 'properati.csv'\n",
    "properati = pd.read_csv(base)\n",
    "\n",
    "print(properati.columns)\n",
    "print(properati.head)"
   ]
  }
 ],
 "metadata": {
  "kernelspec": {
   "display_name": "Python 3 (ipykernel)",
   "language": "python",
   "name": "python3"
  },
  "language_info": {
   "codemirror_mode": {
    "name": "ipython",
    "version": 3
   },
   "file_extension": ".py",
   "mimetype": "text/x-python",
   "name": "python",
   "nbconvert_exporter": "python",
   "pygments_lexer": "ipython3",
   "version": "3.9.7"
  }
 },
 "nbformat": 4,
 "nbformat_minor": 5
}
